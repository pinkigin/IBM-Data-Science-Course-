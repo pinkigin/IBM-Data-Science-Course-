{
 "cells": [
  {
   "cell_type": "markdown",
   "id": "74eaf43d-325c-4745-837a-30589af4b309",
   "metadata": {},
   "source": [
    "\n",
    "- [ ] Completed the required Executive Summary slide (1 pt)\n",
    "- [ ] Completed the required Introduction slide (1 pt)\n",
    "- [x] Completed the required data collection and data wrangling methodology related slides (1 pt)\n",
    "- [ ] Completed the required EDA and interactive visual analytics methodology related slides (3 pts)\n",
    "- [x] Completed the required predictive analysis methodology related slides (1 pt)\n",
    "- [x] Completed the required EDA with visualization results slides (6 pts)\n",
    "- [x] Completed the required EDA with SQL results slides (10 pts)\n",
    "- [x] Completed the required interactive map with Folium results slides (3 pts)\n",
    "- [ ] Completed the required Plotly Dash dashboard results slides (3 pts)\n",
    "- [x] Completed the required predictive analysis (classification) results slides (6 pts)\n",
    "- [ ] Completed the required Conclusion slide (1 pt)\n",
    "- [x] Applied your creativity to improve the presentation beyond the template (1 pt)\n",
    "- [ ] Displayed any innovative insights (1 pt)\n",
    "\n",
    "\n",
    "- [ ] Uploaded the URL of your GitHub repository including all the completed notebooks and Python files (1 pt)\n",
    "- [ ] Uploaded your completed presentation in PDF format (1 pt)\n",
    "      \n"
   ]
  },
  {
   "cell_type": "code",
   "execution_count": 1,
   "id": "340637c3-2ac2-4799-abea-9d9d6bab6605",
   "metadata": {},
   "outputs": [
    {
     "ename": "SyntaxError",
     "evalue": "invalid syntax (425008434.py, line 2)",
     "output_type": "error",
     "traceback": [
      "\u001b[0;36m  Cell \u001b[0;32mIn[1], line 2\u001b[0;36m\u001b[0m\n\u001b[0;31m    git init\u001b[0m\n\u001b[0m        ^\u001b[0m\n\u001b[0;31mSyntaxError\u001b[0m\u001b[0;31m:\u001b[0m invalid syntax\n"
     ]
    }
   ],
   "source": [
    "cd /Users/bluedot/DataScience/Capstone\n",
    "git init\n",
    "git remote add origin https://github.com/pinkigin/IBM-Data-Science-Course-\n",
    "git add .\n",
    "git commit -m \"Initial commit\"\n",
    "git push -u origin master\n"
   ]
  }
 ],
 "metadata": {
  "kernelspec": {
   "display_name": "Python 3 (ipykernel)",
   "language": "python",
   "name": "python3"
  },
  "language_info": {
   "codemirror_mode": {
    "name": "ipython",
    "version": 3
   },
   "file_extension": ".py",
   "mimetype": "text/x-python",
   "name": "python",
   "nbconvert_exporter": "python",
   "pygments_lexer": "ipython3",
   "version": "3.12.3"
  }
 },
 "nbformat": 4,
 "nbformat_minor": 5
}
