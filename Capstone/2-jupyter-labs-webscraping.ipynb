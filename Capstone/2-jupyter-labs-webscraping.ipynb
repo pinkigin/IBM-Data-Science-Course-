{
 "cells": [
  {
   "cell_type": "markdown",
   "metadata": {},
   "source": [
    "<p style=\"text-align:center\">\n",
    "    <a href=\"https://skills.network\" target=\"_blank\">\n",
    "    <img src=\"https://cf-courses-data.s3.us.cloud-object-storage.appdomain.cloud/assets/logos/SN_web_lightmode.png\" width=\"200\" alt=\"Skills Network Logo\">\n",
    "    </a>\n",
    "</p>\n"
   ]
  },
  {
   "cell_type": "markdown",
   "metadata": {
    "tags": []
   },
   "source": [
    "# **Space X  Falcon 9 First Stage Landing Prediction**\n"
   ]
  },
  {
   "cell_type": "markdown",
   "metadata": {
    "tags": []
   },
   "source": [
    "## Web scraping Falcon 9 and Falcon Heavy Launches Records from Wikipedia\n"
   ]
  },
  {
   "cell_type": "markdown",
   "metadata": {},
   "source": [
    "Estimated time needed: **40** minutes\n"
   ]
  },
  {
   "cell_type": "markdown",
   "metadata": {},
   "source": [
    "In this lab, you will be performing web scraping to collect Falcon 9 historical launch records from a Wikipedia page titled `List of Falcon 9 and Falcon Heavy launches`\n",
    "\n",
    "https://en.wikipedia.org/wiki/List_of_Falcon_9_and_Falcon_Heavy_launches\n"
   ]
  },
  {
   "cell_type": "markdown",
   "metadata": {},
   "source": [
    "![](https://cf-courses-data.s3.us.cloud-object-storage.appdomain.cloud/IBM-DS0321EN-SkillsNetwork/labs/module_1_L2/images/Falcon9_rocket_family.svg)\n"
   ]
  },
  {
   "cell_type": "markdown",
   "metadata": {},
   "source": [
    "Falcon 9 first stage will land successfully\n"
   ]
  },
  {
   "cell_type": "markdown",
   "metadata": {},
   "source": [
    "![](https://cf-courses-data.s3.us.cloud-object-storage.appdomain.cloud/IBMDeveloperSkillsNetwork-DS0701EN-SkillsNetwork/api/Images/landing_1.gif)\n"
   ]
  },
  {
   "cell_type": "markdown",
   "metadata": {},
   "source": [
    "Several examples of an unsuccessful landing are shown here:\n"
   ]
  },
  {
   "cell_type": "markdown",
   "metadata": {},
   "source": [
    "![](https://cf-courses-data.s3.us.cloud-object-storage.appdomain.cloud/IBMDeveloperSkillsNetwork-DS0701EN-SkillsNetwork/api/Images/crash.gif)\n"
   ]
  },
  {
   "cell_type": "markdown",
   "metadata": {},
   "source": [
    "More specifically, the launch records are stored in a HTML table shown below:\n"
   ]
  },
  {
   "cell_type": "markdown",
   "metadata": {},
   "source": [
    "![](https://cf-courses-data.s3.us.cloud-object-storage.appdomain.cloud/IBM-DS0321EN-SkillsNetwork/labs/module_1_L2/images/falcon9-launches-wiki.png)\n"
   ]
  },
  {
   "cell_type": "markdown",
   "metadata": {
    "tags": []
   },
   "source": [
    "  ## Objectives\n",
    "Web scrap Falcon 9 launch records with `BeautifulSoup`: \n",
    "- Extract a Falcon 9 launch records HTML table from Wikipedia\n",
    "- Parse the table and convert it into a Pandas data frame\n"
   ]
  },
  {
   "cell_type": "markdown",
   "metadata": {},
   "source": [
    "First let's import required packages for this lab\n"
   ]
  },
  {
   "cell_type": "code",
   "execution_count": 1,
   "metadata": {
    "tags": []
   },
   "outputs": [
    {
     "name": "stdout",
     "output_type": "stream",
     "text": [
      "Requirement already satisfied: beautifulsoup4 in /usr/local/lib/python3.12/site-packages (4.12.3)\n",
      "Requirement already satisfied: soupsieve>1.2 in /usr/local/lib/python3.12/site-packages (from beautifulsoup4) (2.5)\n",
      "\u001b[34m==>\u001b[0m \u001b[1mAuto-updating Homebrew...\u001b[0m\n",
      "Adjust how often this is run with HOMEBREW_AUTO_UPDATE_SECS or disable with\n",
      "HOMEBREW_NO_AUTO_UPDATE. Hide these hints with HOMEBREW_NO_ENV_HINTS (see `man brew`).\n",
      "\u001b[34m==>\u001b[0m \u001b[1mAuto-updated Homebrew!\u001b[0m\n",
      "Updated 2 taps (homebrew/core and homebrew/cask).\n",
      "\u001b[34m==>\u001b[0m \u001b[1mNew Formulae\u001b[0m\n",
      "cyctl        fern-api     libpeas@1    openjdk@21   toipe        vexctl\n",
      "\u001b[34m==>\u001b[0m \u001b[1mNew Casks\u001b[0m\n",
      "alcom               clion@eap           get-api             proton-pass\n",
      "\n",
      "You have \u001b[1m18\u001b[0m outdated formulae and \u001b[1m2\u001b[0m outdated casks installed.\n",
      "\n",
      "\u001b[33mWarning:\u001b[0m python-requests 2.31.0 is already installed and up-to-date.\n",
      "To reinstall 2.31.0, run:\n",
      "  brew reinstall python-requests\n",
      "Requirement already satisfied: pandas in /usr/local/lib/python3.12/site-packages (2.2.2)\n",
      "Requirement already satisfied: numpy>=1.26.0 in /usr/local/lib/python3.12/site-packages (from pandas) (1.26.4)\n",
      "Requirement already satisfied: python-dateutil>=2.8.2 in /usr/local/lib/python3.12/site-packages (from pandas) (2.9.0.post0)\n",
      "Requirement already satisfied: pytz>=2020.1 in /usr/local/lib/python3.12/site-packages (from pandas) (2024.1)\n",
      "Requirement already satisfied: tzdata>=2022.7 in /usr/local/lib/python3.12/site-packages (from pandas) (2024.1)\n",
      "Requirement already satisfied: six>=1.5 in /usr/local/lib/python3.12/site-packages (from python-dateutil>=2.8.2->pandas) (1.16.0)\n"
     ]
    }
   ],
   "source": [
    "!pip3 install beautifulsoup4 --break-system-packages\n",
    "!brew install python-requests\n",
    "!pip3 install pandas --break-system-packages"
   ]
  },
  {
   "cell_type": "code",
   "execution_count": 2,
   "metadata": {
    "tags": []
   },
   "outputs": [],
   "source": [
    "import sys\n",
    "\n",
    "import requests\n",
    "from bs4 import BeautifulSoup\n",
    "import re\n",
    "import unicodedata\n",
    "import pandas as pd"
   ]
  },
  {
   "cell_type": "markdown",
   "metadata": {},
   "source": [
    "and we will provide some helper functions for you to process web scraped HTML table\n"
   ]
  },
  {
   "cell_type": "code",
   "execution_count": 3,
   "metadata": {
    "tags": []
   },
   "outputs": [],
   "source": [
    "def date_time(table_cells):\n",
    "    \"\"\"\n",
    "    This function returns the data and time from the HTML  table cell\n",
    "    Input: the  element of a table data cell extracts extra row\n",
    "    \"\"\"\n",
    "    return [data_time.strip() for data_time in list(table_cells.strings)][0:2]\n",
    "\n",
    "def booster_version(table_cells):\n",
    "    \"\"\"\n",
    "    This function returns the booster version from the HTML  table cell \n",
    "    Input: the  element of a table data cell extracts extra row\n",
    "    \"\"\"\n",
    "    out=''.join([booster_version for i,booster_version in enumerate( table_cells.strings) if i%2==0][0:-1])\n",
    "    return out\n",
    "\n",
    "def landing_status(table_cells):\n",
    "    \"\"\"\n",
    "    This function returns the landing status from the HTML table cell \n",
    "    Input: the  element of a table data cell extracts extra row\n",
    "    \"\"\"\n",
    "    out=[i for i in table_cells.strings][0]\n",
    "    return out\n",
    "\n",
    "\n",
    "def get_mass(table_cells):\n",
    "    mass=unicodedata.normalize(\"NFKD\", table_cells.text).strip()\n",
    "    if mass:\n",
    "        mass.find(\"kg\")\n",
    "        new_mass=mass[0:mass.find(\"kg\")+2]\n",
    "    else:\n",
    "        new_mass=0\n",
    "    return new_mass\n",
    "\n",
    "\n",
    "def extract_column_from_header(row):\n",
    "    \"\"\"\n",
    "    This function returns the landing status from the HTML table cell \n",
    "    Input: the  element of a table data cell extracts extra row\n",
    "    \"\"\"\n",
    "    if (row.br):\n",
    "        row.br.extract()\n",
    "    if row.a:\n",
    "        row.a.extract()\n",
    "    if row.sup:\n",
    "        row.sup.extract()\n",
    "        \n",
    "    colunm_name = ' '.join(row.contents)\n",
    "    \n",
    "    # Filter the digit and empty names\n",
    "    if not(colunm_name.strip().isdigit()):\n",
    "        colunm_name = colunm_name.strip()\n",
    "        return colunm_name    \n"
   ]
  },
  {
   "cell_type": "markdown",
   "metadata": {},
   "source": [
    "To keep the lab tasks consistent, you will be asked to scrape the data from a snapshot of the  `List of Falcon 9 and Falcon Heavy launches` Wikipage updated on\n",
    "`9th June 2021`\n"
   ]
  },
  {
   "cell_type": "code",
   "execution_count": 4,
   "metadata": {
    "tags": []
   },
   "outputs": [],
   "source": [
    "static_url = \"https://en.wikipedia.org/w/index.php?title=List_of_Falcon_9_and_Falcon_Heavy_launches&oldid=1027686922\""
   ]
  },
  {
   "cell_type": "markdown",
   "metadata": {},
   "source": [
    "Next, request the HTML page from the above URL and get a `response` object\n"
   ]
  },
  {
   "cell_type": "markdown",
   "metadata": {
    "tags": []
   },
   "source": [
    "### TASK 1: Request the Falcon9 Launch Wiki page from its URL\n"
   ]
  },
  {
   "cell_type": "markdown",
   "metadata": {},
   "source": [
    "First, let's perform an HTTP GET method to request the Falcon9 Launch HTML page, as an HTTP response.\n"
   ]
  },
  {
   "cell_type": "code",
   "execution_count": 5,
   "metadata": {
    "tags": []
   },
   "outputs": [
    {
     "name": "stdout",
     "output_type": "stream",
     "text": [
      "Request was successful\n"
     ]
    }
   ],
   "source": [
    "# use requests.get() method with the provided static_url\n",
    "# assign the response to a object\n",
    "import requests\n",
    "test1 = requests.get(static_url)\n",
    "if test1.ok:\n",
    "    print(\"Request was successful\")  "
   ]
  },
  {
   "cell_type": "markdown",
   "metadata": {},
   "source": [
    "\n"
   ]
  },
  {
   "cell_type": "code",
   "execution_count": 10,
   "metadata": {
    "tags": []
   },
   "outputs": [
    {
     "data": {
      "text/plain": [
       "<title>List of Falcon 9 and Falcon Heavy launches - Wikipedia</title>"
      ]
     },
     "execution_count": 10,
     "metadata": {},
     "output_type": "execute_result"
    }
   ],
   "source": [
    "# Use BeautifulSoup() to create a BeautifulSoup object from a response text content\n",
    "\n",
    "soup = BeautifulSoup(test1.text, \"html.parser\")\n",
    "soup_data.title\n",
    "\n"
   ]
  },
  {
   "cell_type": "markdown",
   "metadata": {},
   "source": [
    "Print the page title to verify if the `BeautifulSoup` object was created properly \n"
   ]
  },
  {
   "cell_type": "code",
   "execution_count": 18,
   "metadata": {},
   "outputs": [
    {
     "name": "stdout",
     "output_type": "stream",
     "text": [
      "List of Falcon 9 and Falcon Heavy launches - Wikipedia\n"
     ]
    }
   ],
   "source": [
    "#soup_data.head\n",
    "page_title = soup_data.title.string\n",
    "print(page_title)\n",
    "\n"
   ]
  },
  {
   "cell_type": "markdown",
   "metadata": {
    "tags": []
   },
   "source": [
    "### TASK 2: Extract all column/variable names from the HTML table header\n"
   ]
  },
  {
   "cell_type": "markdown",
   "metadata": {},
   "source": [
    "Next, we want to collect all relevant column names from the HTML table header\n"
   ]
  },
  {
   "cell_type": "markdown",
   "metadata": {},
   "source": [
    "Let's try to find all tables on the wiki page first. If you need to refresh your memory about `BeautifulSoup`, please check the external reference link towards the end of this lab\n"
   ]
  },
  {
   "cell_type": "code",
   "execution_count": 21,
   "metadata": {
    "tags": []
   },
   "outputs": [],
   "source": [
    "# Use the find_all function in the BeautifulSoup object, with element type `table`\n",
    "# Assign the result to a list called `html_tables`\n",
    "html_tables =  soup_data.find_all('table')\n",
    "#html_tables\n"
   ]
  },
  {
   "cell_type": "markdown",
   "metadata": {},
   "source": [
    "Starting from the third table is our target table contains the actual launch records.\n"
   ]
  },
  {
   "cell_type": "code",
   "execution_count": 23,
   "metadata": {
    "tags": []
   },
   "outputs": [],
   "source": [
    "# Let's print the third table and check its content\n",
    "first_launch_table = html_tables[2]\n",
    "#print(first_launch_table)"
   ]
  },
  {
   "cell_type": "markdown",
   "metadata": {},
   "source": [
    "You should able to see the columns names embedded in the table header elements `<th>` as follows:\n"
   ]
  },
  {
   "cell_type": "markdown",
   "metadata": {},
   "source": [
    "```\n",
    "<tr>\n",
    "<th scope=\"col\">Flight No.\n",
    "</th>\n",
    "<th scope=\"col\">Date and<br/>time (<a href=\"/wiki/Coordinated_Universal_Time\" title=\"Coordinated Universal Time\">UTC</a>)\n",
    "</th>\n",
    "<th scope=\"col\"><a href=\"/wiki/List_of_Falcon_9_first-stage_boosters\" title=\"List of Falcon 9 first-stage boosters\">Version,<br/>Booster</a> <sup class=\"reference\" id=\"cite_ref-booster_11-0\"><a href=\"#cite_note-booster-11\">[b]</a></sup>\n",
    "</th>\n",
    "<th scope=\"col\">Launch site\n",
    "</th>\n",
    "<th scope=\"col\">Payload<sup class=\"reference\" id=\"cite_ref-Dragon_12-0\"><a href=\"#cite_note-Dragon-12\">[c]</a></sup>\n",
    "</th>\n",
    "<th scope=\"col\">Payload mass\n",
    "</th>\n",
    "<th scope=\"col\">Orbit\n",
    "</th>\n",
    "<th scope=\"col\">Customer\n",
    "</th>\n",
    "<th scope=\"col\">Launch<br/>outcome\n",
    "</th>\n",
    "<th scope=\"col\"><a href=\"/wiki/Falcon_9_first-stage_landing_tests\" title=\"Falcon 9 first-stage landing tests\">Booster<br/>landing</a>\n",
    "</th></tr>\n",
    "```\n"
   ]
  },
  {
   "cell_type": "markdown",
   "metadata": {},
   "source": [
    "Next, we just need to iterate through the `<th>` elements and apply the provided `extract_column_from_header()` to extract column name one by one\n"
   ]
  },
  {
   "cell_type": "code",
   "execution_count": 24,
   "metadata": {
    "tags": []
   },
   "outputs": [
    {
     "name": "stdout",
     "output_type": "stream",
     "text": [
      "[<th scope=\"col\">Flight No.\n",
      "</th>, <th scope=\"col\">Date and<br/>time (<a href=\"/wiki/Coordinated_Universal_Time\" title=\"Coordinated Universal Time\">UTC</a>)\n",
      "</th>, <th scope=\"col\"><a href=\"/wiki/List_of_Falcon_9_first-stage_boosters\" title=\"List of Falcon 9 first-stage boosters\">Version,<br/>Booster</a> <sup class=\"reference\" id=\"cite_ref-booster_11-0\"><a href=\"#cite_note-booster-11\">[b]</a></sup>\n",
      "</th>, <th scope=\"col\">Launch site\n",
      "</th>, <th scope=\"col\">Payload<sup class=\"reference\" id=\"cite_ref-Dragon_12-0\"><a href=\"#cite_note-Dragon-12\">[c]</a></sup>\n",
      "</th>, <th scope=\"col\">Payload mass\n",
      "</th>, <th scope=\"col\">Orbit\n",
      "</th>, <th scope=\"col\">Customer\n",
      "</th>, <th scope=\"col\">Launch<br/>outcome\n",
      "</th>, <th scope=\"col\"><a href=\"/wiki/Falcon_9_first-stage_landing_tests\" title=\"Falcon 9 first-stage landing tests\">Booster<br/>landing</a>\n",
      "</th>, <th rowspan=\"2\" scope=\"row\" style=\"text-align:center;\">1\n",
      "</th>, <th rowspan=\"2\" scope=\"row\" style=\"text-align:center;\">2\n",
      "</th>, <th rowspan=\"2\" scope=\"row\" style=\"text-align:center;\">3\n",
      "</th>, <th rowspan=\"3\" scope=\"row\" style=\"text-align:center;\">4\n",
      "</th>, <th rowspan=\"2\" scope=\"row\" style=\"text-align:center;\">5\n",
      "</th>, <th rowspan=\"2\" scope=\"row\" style=\"text-align:center;\">6\n",
      "</th>, <th rowspan=\"2\" scope=\"row\" style=\"text-align:center;\">7\n",
      "</th>]\n"
     ]
    }
   ],
   "source": [
    "# Apply find_all() function with `th` element on first_launch_table\n",
    "html_tables =  soup_data.find_all('table')\n",
    "first_launch_table = first_launch_table.find_all('th')\n",
    "print(first_launch_table)\n",
    "\n",
    "\n",
    "def extract_column_from_header(row):\n",
    "    \"\"\"\n",
    "    This function returns the landing status from the HTML table cell.\n",
    "    Input: a table data cell element from which extra rows are extracted.\n",
    "    \"\"\"\n",
    "    # Extract unwanted tags\n",
    "    if row.br:\n",
    "        row.br.extract()\n",
    "    if row.a:\n",
    "        row.a.extract()\n",
    "    if row.sup:\n",
    "        row.sup.extract()\n",
    "\n",
    "    # Join contents and strip leading/trailing whitespace\n",
    "    colunm_name = ' '.join(row.contents).strip()\n",
    "\n",
    "    # Validate it's not empty and not just digits\n",
    "    if colunm_name and not colunm_name.isdigit():\n",
    "        return colunm_name\n",
    "    else:\n",
    "        return None  # Return None if it's invalid or empty\n",
    "\n"
   ]
  },
  {
   "cell_type": "code",
   "execution_count": 25,
   "metadata": {
    "tags": []
   },
   "outputs": [
    {
     "name": "stdout",
     "output_type": "stream",
     "text": [
      "['Flight No.', 'Date and time ( )', None, 'Launch site', 'Payload', 'Payload mass', 'Orbit', 'Customer', 'Launch outcome', None, None, None, None, None, None, None]\n"
     ]
    }
   ],
   "source": [
    "#print(range(len(first_launch_table)-1))\n",
    "cols=[]\n",
    "#print(cols)\n",
    "\n",
    "for i in (range(len(first_launch_table)-1)):\n",
    "    #print(i)\n",
    "    cols.append(extract_column_from_header(first_launch_table[i]))\n",
    "\n",
    "print(cols)\n"
   ]
  },
  {
   "cell_type": "code",
   "execution_count": 26,
   "metadata": {
    "tags": []
   },
   "outputs": [
    {
     "name": "stdout",
     "output_type": "stream",
     "text": [
      "['Flight No.', 'Date and time ( )', 'Launch site', 'Payload', 'Payload mass', 'Orbit', 'Customer', 'Launch outcome']\n"
     ]
    }
   ],
   "source": [
    "\n",
    "# Use list comprehension to filter non-empty and non-None values\n",
    "column_names = [name for name in cols if name is not None and len(name.strip()) > 0]\n",
    "\n",
    "print(column_names)  # Output: ['Name', 'Age', 'Occupation']"
   ]
  },
  {
   "cell_type": "code",
   "execution_count": 27,
   "metadata": {
    "tags": []
   },
   "outputs": [],
   "source": [
    "\n",
    "\n",
    "# Iterate each th element and apply the provided extract_column_from_header() to get a column name\n",
    "# Append the Non-empty column name (`if name is not None and len(name) > 0`) into a list called column_names\n"
   ]
  },
  {
   "cell_type": "markdown",
   "metadata": {},
   "source": [
    "Check the extracted column names\n"
   ]
  },
  {
   "cell_type": "code",
   "execution_count": 28,
   "metadata": {
    "tags": []
   },
   "outputs": [
    {
     "name": "stdout",
     "output_type": "stream",
     "text": [
      "['Flight No.', 'Date and time ( )', 'Launch site', 'Payload', 'Payload mass', 'Orbit', 'Customer', 'Launch outcome']\n"
     ]
    }
   ],
   "source": [
    "print(column_names)\n",
    "\n"
   ]
  },
  {
   "cell_type": "markdown",
   "metadata": {},
   "source": [
    "## TASK 3: Create a data frame by parsing the launch HTML tables\n"
   ]
  },
  {
   "cell_type": "markdown",
   "metadata": {},
   "source": [
    "We will create an empty dictionary with keys from the extracted column names in the previous task. Later, this dictionary will be converted into a Pandas dataframe\n"
   ]
  },
  {
   "cell_type": "code",
   "execution_count": 29,
   "metadata": {
    "tags": []
   },
   "outputs": [],
   "source": [
    "launch_dict= dict.fromkeys(column_names)\n",
    "\n",
    "# Remove an irrelvant column\n",
    "del launch_dict['Date and time ( )']\n",
    "#del launch_dict['Customer ( )']\n",
    "\n",
    "# Let's initial the launch_dict with each value to be an empty list\n",
    "launch_dict['Flight No.'] = []\n",
    "launch_dict['Launch site'] = []\n",
    "launch_dict['Payload'] = []\n",
    "launch_dict['Payload mass'] = []\n",
    "launch_dict['Orbit'] = []\n",
    "#launch_dict['Customer'] = []\n",
    "launch_dict['Launch outcome'] = []\n",
    "# Added some new columns\n",
    "launch_dict['Version Booster']=[]\n",
    "launch_dict['Booster landing']=[]\n",
    "launch_dict['Date']=[]\n",
    "launch_dict['Time']=[]"
   ]
  },
  {
   "cell_type": "markdown",
   "metadata": {},
   "source": [
    "Next, we just need to fill up the `launch_dict` with launch records extracted from table rows.\n"
   ]
  },
  {
   "cell_type": "markdown",
   "metadata": {},
   "source": [
    "Usually, HTML tables in Wiki pages are likely to contain unexpected annotations and other types of noises, such as reference links `B0004.1[8]`, missing values `N/A [e]`, inconsistent formatting, etc.\n"
   ]
  },
  {
   "cell_type": "code",
   "execution_count": 30,
   "metadata": {},
   "outputs": [
    {
     "name": "stdout",
     "output_type": "stream",
     "text": [
      "    Flight No. Launch Site                               Payload Payload mass  \\\n",
      "0            1       CCAFS  Dragon Spacecraft Qualification Unit            0   \n",
      "1            2       CCAFS                                Dragon            0   \n",
      "2            3       CCAFS                                Dragon       525 kg   \n",
      "3            4       CCAFS                          SpaceX CRS-1     4,700 kg   \n",
      "4            5       CCAFS                          SpaceX CRS-2     4,877 kg   \n",
      "..         ...         ...                                   ...          ...   \n",
      "116        117       CCSFS                              Starlink    15,600 kg   \n",
      "117        118         KSC                              Starlink   ~14,000 kg   \n",
      "118        119       CCSFS                              Starlink    15,600 kg   \n",
      "119        120         KSC                         SpaceX CRS-22     3,328 kg   \n",
      "120        121       CCSFS                                 SXM-8     7,000 kg   \n",
      "\n",
      "                Date   Time Version Booster Orbit   Customer Launch outcome  \\\n",
      "0        4 June 2010  18:45  F9 v1.0B0003.1   LEO     SpaceX      Success\\n   \n",
      "1    8 December 2010  15:43  F9 v1.0B0004.1   LEO       NASA        Success   \n",
      "2        22 May 2012  07:44  F9 v1.0B0005.1   LEO       NASA        Success   \n",
      "3     8 October 2012  00:35  F9 v1.0B0006.1   LEO       NASA      Success\\n   \n",
      "4       1 March 2013  15:10  F9 v1.0B0007.1   LEO       NASA      Success\\n   \n",
      "..               ...    ...             ...   ...        ...            ...   \n",
      "116       9 May 2021  06:42   F9 B5B1051.10   LEO     SpaceX      Success\\n   \n",
      "117      15 May 2021  22:56    F9 B5B1058.8   LEO     SpaceX      Success\\n   \n",
      "118      26 May 2021  18:59    F9 B5B1063.2   LEO     SpaceX      Success\\n   \n",
      "119      3 June 2021  17:29    F9 B5B1067.1   LEO       NASA      Success\\n   \n",
      "120      6 June 2021  04:26           F9 B5   GTO  Sirius XM      Success\\n   \n",
      "\n",
      "    Booster landing  \n",
      "0           Failure  \n",
      "1           Failure  \n",
      "2      No attempt\\n  \n",
      "3        No attempt  \n",
      "4      No attempt\\n  \n",
      "..              ...  \n",
      "116         Success  \n",
      "117         Success  \n",
      "118         Success  \n",
      "119         Success  \n",
      "120         Success  \n",
      "\n",
      "[121 rows x 11 columns]\n"
     ]
    }
   ],
   "source": [
    "# First, import the necessary library\n",
    "import pandas as pd\n",
    "\n",
    "# Initialize variables\n",
    "extracted_row = 0\n",
    "temp = []\n",
    "\n",
    "# Iterate over the tables\n",
    "for table_number, table in enumerate(soup_data.find_all('table', \"wikitable plainrowheaders collapsible\")):\n",
    "    # Iterate over the rows in the table\n",
    "    for rows in table.find_all(\"tr\"):\n",
    "        flag = False\n",
    "        \n",
    "        # Check if row has a number as first element\n",
    "        if rows.th and rows.th.string:\n",
    "            flight_number = rows.th.string.strip()\n",
    "            flag = flight_number.isdigit()\n",
    "        \n",
    "        if flag:\n",
    "            # Create a new dictionary for each valid row\n",
    "            launch_dict = {}\n",
    "\n",
    "            # Increment the counter for extracted rows\n",
    "            extracted_row += 1\n",
    "\n",
    "            # Flight Number\n",
    "            launch_dict[\"Flight No.\"] = flight_number\n",
    "            \n",
    "            # Table cells in the row\n",
    "            row = rows.find_all(\"td\")\n",
    "\n",
    "            # Extract data and populate the dictionary\n",
    "            launch_dict[\"Launch Site\"] = row[2].a.string\n",
    "            launch_dict[\"Payload\"] = row[3].a.string\n",
    "            launch_dict[\"Payload mass\"] = get_mass(row[4])\n",
    "\n",
    "            datatimelist = date_time(row[0])\n",
    "            launch_dict[\"Date\"] = datatimelist[0].strip(',')\n",
    "            launch_dict[\"Time\"] = datatimelist[1]\n",
    "\n",
    "            bv = booster_version(row[1])\n",
    "            if not bv:\n",
    "                bv = row[1].a.string\n",
    "            launch_dict[\"Version Booster\"] = bv\n",
    "            \n",
    "            launch_dict[\"Orbit\"] = row[5].a.string\n",
    "\n",
    "            # Customer data is optional, so we need to ensure it exists\n",
    "            if len(row) > 6 and row[6].a:\n",
    "                launch_dict[\"Customer\"] = row[6].a.string\n",
    "\n",
    "            # Launch outcome\n",
    "            launch_dict[\"Launch outcome\"] = list(row[7].strings)[0]\n",
    "\n",
    "            # Booster landing\n",
    "            launch_dict[\"Booster landing\"] = landing_status(row[8])\n",
    "\n",
    "            # Append the dictionary to the list of extracted rows\n",
    "            temp.append(launch_dict)\n",
    "\n",
    "# Now create the data frame from the list of dictionaries\n",
    "launch_df = pd.DataFrame(temp)\n",
    "\n",
    "# Display the data frame\n",
    "print(launch_df)\n",
    "\n",
    "launch_df.to_csv('spacex_web_scraped.csv', index=False)"
   ]
  },
  {
   "cell_type": "code",
   "execution_count": 31,
   "metadata": {
    "tags": []
   },
   "outputs": [
    {
     "name": "stdout",
     "output_type": "stream",
     "text": [
      "    Flight No. Launch site                               Payload Payload mass  \\\n",
      "0            1       CCAFS  Dragon Spacecraft Qualification Unit            0   \n",
      "1            2       CCAFS                                Dragon            0   \n",
      "2            3       CCAFS                                Dragon       525 kg   \n",
      "3            4       CCAFS                          SpaceX CRS-1     4,700 kg   \n",
      "4            5       CCAFS                          SpaceX CRS-2     4,877 kg   \n",
      "..         ...         ...                                   ...          ...   \n",
      "116        117       CCSFS                              Starlink    15,600 kg   \n",
      "117        118         KSC                              Starlink   ~14,000 kg   \n",
      "118        119       CCSFS                              Starlink    15,600 kg   \n",
      "119        120         KSC                         SpaceX CRS-22     3,328 kg   \n",
      "120        121       CCSFS                                 SXM-8     7,000 kg   \n",
      "\n",
      "                Date   Time Version Booster Orbit Launch outcome  \n",
      "0        4 June 2010  18:45  F9 v1.0B0003.1   LEO      Success\\n  \n",
      "1    8 December 2010  15:43  F9 v1.0B0004.1   LEO        Success  \n",
      "2        22 May 2012  07:44  F9 v1.0B0005.1   LEO        Success  \n",
      "3     8 October 2012  00:35  F9 v1.0B0006.1   LEO      Success\\n  \n",
      "4       1 March 2013  15:10  F9 v1.0B0007.1   LEO      Success\\n  \n",
      "..               ...    ...             ...   ...            ...  \n",
      "116       9 May 2021  06:42   F9 B5B1051.10   LEO      Success\\n  \n",
      "117      15 May 2021  22:56    F9 B5B1058.8   LEO      Success\\n  \n",
      "118      26 May 2021  18:59    F9 B5B1063.2   LEO      Success\\n  \n",
      "119      3 June 2021  17:29    F9 B5B1067.1   LEO      Success\\n  \n",
      "120      6 June 2021  04:26           F9 B5   GTO      Success\\n  \n",
      "\n",
      "[121 rows x 9 columns]\n"
     ]
    }
   ],
   "source": [
    "extracted_row = 0\n",
    "temp = []\n",
    "\n",
    "#Extract each table \n",
    "for table_number,table in enumerate(soup_data.find_all('table',\"wikitable plainrowheaders collapsible\")):\n",
    "   # get table row \n",
    "    for rows in table.find_all(\"tr\"):\n",
    "        #check to see if first table heading is as number corresponding to launch a number \n",
    "        if rows.th:\n",
    "            if rows.th.string:\n",
    "                flight_number=rows.th.string.strip()\n",
    "                flag=flight_number.isdigit()\n",
    "        else:\n",
    "            flag=False\n",
    "        #get table element \n",
    "        row=rows.find_all('td')\n",
    "        #if it is number save cells in a dictonary \n",
    "        if flag:\n",
    "            # Create a new dictionary for each valid row\n",
    "            launch_dict = {}\n",
    "            extracted_row += 1\n",
    "            \n",
    "            \n",
    "            # Flight Number value\n",
    "            #TODO: Append the flight_number into launch_dict with key `Flight No.`\n",
    "            launch_dict[\"Flight No.\"] = flight_number\n",
    "            #print(launch_dict)\n",
    "            \n",
    "            \n",
    "            # Launch Site\n",
    "            # TODO: Append the bv into launch_dict with key `Launch Site`\n",
    "            launch_site = row[2].a.string\n",
    "            launch_dict[\"Launch site\"] = launch_site\n",
    "            #print(launch_dict[\"Launch site\"])\n",
    "            #print(launch_site)\n",
    "            \n",
    "            #print(launch_dict)\n",
    "            \n",
    "            # Payload\n",
    "            # TODO: Append the payload into launch_dict with key `Payload`\n",
    "            payload = row[3].a.string\n",
    "            launch_dict[\"Payload\"] = payload\n",
    "            #print(launch_dict[\"Payload\"])\n",
    "            \n",
    "            #print(launch_dict)\n",
    "            \n",
    "            \n",
    "            # Payload Mass\n",
    "            # TODO: Append the payload_mass into launch_dict with key `Payload mass`\n",
    "            payload_mass = get_mass(row[4])\n",
    "            launch_dict[\"Payload mass\"] = payload_mass\n",
    "            #print(payload)\n",
    "            \n",
    "            datatimelist=date_time(row[0])\n",
    "            \n",
    "            # Date value\n",
    "            # TODO: Append the date into launch_dict with key `Date`\n",
    "            date = datatimelist[0].strip(',')\n",
    "            launch_dict[\"Date\"] = date\n",
    "            #date = { \"\": date,}\n",
    "            #launch_dict.append(date)\n",
    "            #print(date)\n",
    "            #print(launch_dict)\n",
    "            \n",
    "            # Time value\n",
    "            # TODO: Append the time into launch_dict with key `Time`\n",
    "            \n",
    "            time = datatimelist[1]\n",
    "            launch_dict[\"Time\"] = time\n",
    "            #time = { \"\": time,}\n",
    "            #launch_dict.append(time)\n",
    "            \n",
    "            #print(time)\n",
    "            #print(launch_dict[\"Time\"])\n",
    "              \n",
    "            # Booster version\n",
    "            # TODO: Append the bv into launch_dict with key `Version Booster`\n",
    "            bv=booster_version(row[1])\n",
    "            if not(bv):\n",
    "                bv=row[1].a.string\n",
    "            \n",
    "            launch_dict[\"Version Booster\"] = bv\n",
    "            #print(bv)\n",
    "            \n",
    "\n",
    "            \n",
    "            # Orbit\n",
    "            # TODO: Append the orbit into launch_dict with key `Orbit`\n",
    "            orbit = row[5].a.string\n",
    "            launch_dict[\"Orbit\"] = orbit\n",
    "            \n",
    "            #print(orbit)\n",
    "            \n",
    "            # Customer\n",
    "            # TODO: Append the customer into launch_dict with key `Customer`\n",
    "            #customer = row[6].a.string\n",
    "            #print(customer)\n",
    "            \n",
    "            # Launch outcome\n",
    "            # TODO: Append the launch_outcome into launch_dict with key `Launch outcome`\n",
    "            launch_outcome = list(row[7].strings)[0]\n",
    "            launch_dict[\"Launch outcome\"] = launch_outcome\n",
    "            #print(launch_outcome)\n",
    "            \n",
    "            # Booster landing\n",
    "            # TODO: Append the launch_outcome into launch_dict with key `Booster landing`\n",
    "            booster_landing = landing_status(row[8])\n",
    "            #launch_dict[\"Booster landing\"] = booster_landing\n",
    "            #print(booster_landing)\n",
    "            \n",
    "            #print(launch_dict)\n",
    "            temp.append(launch_dict)\n",
    "\n",
    "           \n",
    "         \n",
    "\n",
    "           \n",
    "#print(temp)\n",
    "\n",
    "# Now create the data frame from the list of dictionaries\n",
    "launch_df = pd.DataFrame(temp)\n",
    "\n",
    "# Display the data frame\n",
    "print(launch_df)"
   ]
  },
  {
   "cell_type": "markdown",
   "metadata": {},
   "source": [
    "To simplify the parsing process, we have provided an incomplete code snippet below to help you to fill up the `launch_dict`. Please complete the following code snippet with TODOs or you can choose to write your own logic to parse all launch tables:\n"
   ]
  },
  {
   "cell_type": "markdown",
   "metadata": {},
   "source": [
    "After you have fill in the parsed launch record values into `launch_dict`, you can create a dataframe from it.\n"
   ]
  },
  {
   "cell_type": "code",
   "execution_count": 35,
   "metadata": {},
   "outputs": [
    {
     "data": {
      "text/plain": [
       "Index(['Flight No.', 'Launch site', 'Payload', 'Payload mass', 'Date', 'Time',\n",
       "       'Version Booster', 'Orbit', 'Launch outcome'],\n",
       "      dtype='object')"
      ]
     },
     "execution_count": 35,
     "metadata": {},
     "output_type": "execute_result"
    }
   ],
   "source": [
    "launch_df.columns"
   ]
  },
  {
   "cell_type": "code",
   "execution_count": 32,
   "metadata": {
    "tags": []
   },
   "outputs": [
    {
     "name": "stdout",
     "output_type": "stream",
     "text": [
      "{'Flight No.': '121', 'Launch site': 'CCSFS', 'Payload': 'SXM-8', 'Payload mass': '7,000 kg', 'Date': '6 June 2021', 'Time': '04:26', 'Version Booster': 'F9 B5', 'Orbit': 'GTO', 'Launch outcome': 'Success\\n'}\n"
     ]
    }
   ],
   "source": [
    "print(launch_dict)\n"
   ]
  },
  {
   "cell_type": "code",
   "execution_count": 33,
   "metadata": {
    "tags": []
   },
   "outputs": [
    {
     "name": "stdout",
     "output_type": "stream",
     "text": [
      "0    04:26\n",
      "Name: Time, dtype: object\n"
     ]
    }
   ],
   "source": [
    "\n",
    "#df = pd.DataFrame(launch_dict)\n",
    "unique_items = list(set(launch_dict))\n",
    "#print(launch_dict) \n",
    "df= pd.DataFrame({ key:pd.Series(value) for key, value in launch_dict.items() })\n",
    "print(df['Time'])\n",
    "#print(df)\n",
    "\n"
   ]
  },
  {
   "cell_type": "code",
   "execution_count": 34,
   "metadata": {},
   "outputs": [],
   "source": [
    "df.to_csv('spacex_web_scraped.csv', index=False)"
   ]
  },
  {
   "cell_type": "markdown",
   "metadata": {},
   "source": [
    "We can now export it to a <b>CSV</b> for the next section, but to make the answers consistent and in case you have difficulties finishing this lab. \n",
    "\n",
    "Following labs will be using a provided dataset to make each lab independent. \n"
   ]
  },
  {
   "cell_type": "markdown",
   "metadata": {},
   "source": [
    "<code>df.to_csv('spacex_web_scraped.csv', index=False)</code>\n"
   ]
  },
  {
   "cell_type": "markdown",
   "metadata": {},
   "source": [
    "## Authors\n"
   ]
  },
  {
   "cell_type": "markdown",
   "metadata": {},
   "source": [
    "<a href=\"https://www.linkedin.com/in/yan-luo-96288783/\">Yan Luo</a>\n"
   ]
  },
  {
   "cell_type": "markdown",
   "metadata": {},
   "source": [
    "<a href=\"https://www.linkedin.com/in/nayefaboutayoun/\">Nayef Abou Tayoun</a>\n"
   ]
  },
  {
   "cell_type": "markdown",
   "metadata": {},
   "source": [
    "## Change Log\n"
   ]
  },
  {
   "cell_type": "markdown",
   "metadata": {},
   "source": [
    "| Date (YYYY-MM-DD) | Version | Changed By | Change Description      |\n",
    "| ----------------- | ------- | ---------- | ----------------------- |\n",
    "| 2021-06-09        | 1.0     | Yan Luo    | Tasks updates           |\n",
    "| 2020-11-10        | 1.0     | Nayef      | Created the initial version |\n"
   ]
  },
  {
   "cell_type": "markdown",
   "metadata": {},
   "source": [
    "Copyright © 2021 IBM Corporation. All rights reserved.\n"
   ]
  }
 ],
 "metadata": {
  "kernelspec": {
   "display_name": "Python 3 (ipykernel)",
   "language": "python",
   "name": "python3"
  },
  "language_info": {
   "codemirror_mode": {
    "name": "ipython",
    "version": 3
   },
   "file_extension": ".py",
   "mimetype": "text/x-python",
   "name": "python",
   "nbconvert_exporter": "python",
   "pygments_lexer": "ipython3",
   "version": "3.12.3"
  }
 },
 "nbformat": 4,
 "nbformat_minor": 4
}
