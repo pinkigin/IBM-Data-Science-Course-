{
 "cells": [
  {
   "cell_type": "code",
   "execution_count": 2,
   "id": "649af41a-d9ed-4c81-8c24-5f9cd242cd81",
   "metadata": {},
   "outputs": [
    {
     "name": "stdout",
     "output_type": "stream",
     "text": [
      "Requirement already satisfied: wget in /usr/local/lib/python3.12/site-packages (3.2)\n",
      "Requirement already satisfied: more-itertools in /usr/local/lib/python3.12/site-packages (10.2.0)\n"
     ]
    }
   ],
   "source": [
    "!pip3 install wget --break-system-package\n",
    "#import wget\n",
    "#pip install more-itertools\n",
    "\n",
    "!pip3 install more-itertools --break-system-package"
   ]
  },
  {
   "cell_type": "code",
   "execution_count": 1,
   "id": "f752e062-05cd-4d7a-8b4b-bf008cf53b8c",
   "metadata": {},
   "outputs": [],
   "source": [
    "# Import required libraries\n",
    "import pandas as pd\n",
    "import plotly.graph_objects as go\n",
    "import dash\n",
    "from dash import dcc\n",
    "from dash import html\n",
    "from dash.dependencies import Input, Output\n",
    "import plotly.express as px\n"
   ]
  },
  {
   "cell_type": "code",
   "execution_count": 2,
   "id": "f7c994f6-0a25-4ad6-8ad0-fa58c18f369e",
   "metadata": {},
   "outputs": [],
   "source": [
    "# Read the airline data into pandas dataframe\n",
    "spacex_df = pd.read_csv(\"spacex_launch_dash.csv\")\n",
    "max_payload = spacex_df['Payload Mass (kg)'].max()\n",
    "min_payload = spacex_df['Payload Mass (kg)'].min()\n"
   ]
  },
  {
   "cell_type": "code",
   "execution_count": 4,
   "id": "e91e1190-5437-4c50-9c1e-c09e53e8fa79",
   "metadata": {},
   "outputs": [],
   "source": [
    "\n",
    "#!wget 'https://cf-courses-data.s3.us.cloud-object-storage.appdomain.cloud/IBM-DS0321EN-SkillsNetwork/datasets/spacex_launch_dash.csv'\n",
    "#!wget 'https://cf-courses-data.s3.us.cloud-object-storage.appdomain.cloud/IBM-DS0321EN-SkillsNetwork/labs/module_3/spacex_dash_app.py'"
   ]
  },
  {
   "cell_type": "code",
   "execution_count": 3,
   "id": "1cbca1d0-8718-4303-9554-97d029296f30",
   "metadata": {},
   "outputs": [
    {
     "data": {
      "text/plain": [
       "array(['CCAFS LC-40', 'VAFB SLC-4E', 'KSC LC-39A', 'CCAFS SLC-40'],\n",
       "      dtype=object)"
      ]
     },
     "execution_count": 3,
     "metadata": {},
     "output_type": "execute_result"
    }
   ],
   "source": [
    "\n",
    "# Dropdown menu options\n",
    "\n",
    "spacex_df.describe\n",
    "spacex_df.columns\n",
    "dropdown_options = spacex_df['Launch Site'].unique()\n",
    "dropdown_options\n",
    "\n"
   ]
  },
  {
   "cell_type": "code",
   "execution_count": 5,
   "id": "a0469218-bcd5-4372-a3b8-c8e56a1ecd3a",
   "metadata": {},
   "outputs": [],
   "source": [
    "\n",
    "\n",
    "\n",
    "# Create a dash application\n",
    "app = dash.Dash(__name__)\n",
    "\n",
    "# Create an app layout\n",
    "app.layout = html.Div(children=[html.H1('SpaceX Launch Records Dashboard',\n",
    "                                        style={'textAlign': 'center', 'color': '#503D36',\n",
    "                                               'font-size': 40}),\n",
    "                                # TASK 1: Add a dropdown list to enable Launch Site selection\n",
    "                                # The default select value is for ALL sites\n",
    "                                # dcc.Dropdown(id='site-dropdown',...)\n",
    "                                html.Br(),\n",
    "                                 html.Div([\n",
    "                                    html.Label(\"Launch Site Selection:\"),\n",
    "                                        dcc.Dropdown(id='site-dropdown',\n",
    "                                        options=dropdown_options,\n",
    "                                        value='Launch_Site',\n",
    "                                        placeholder='Select a report type', searchable=True\n",
    "                        ),\n",
    "    html.Div(id='output-container')\n",
    "])\n",
    ",\n",
    "\n",
    "\n",
    "                                     \n",
    "    ])\n",
    "\n",
    "# Callback to update the output container based on selected statistics and year\n",
    "@app.callback(\n",
    "    Output('output-container', 'children'),\n",
    "    [Input('site-dropdown', 'value')]\n",
    ")\n",
    "def update_output_container(site-dropdown):\n",
    "\n",
    "\n",
    " # TASK 2: Add a pie chart to show the total successful launches count for all sites\n",
    "             # If a specific launch site was selected, show the Success vs. Failed counts for the site\n",
    "                                html.Div(dcc.Graph(id='success-pie-chart')),\n",
    "                                html.Br(),\n",
    "\n",
    "                                html.P(\"Payload range (Kg):\"),\n",
    "\n",
    "        Y_chart4 = dcc.Graph(\n",
    "            figure=px.pie(\n",
    "                exp_data,\n",
    "                values='Advertising_Expenditure',\n",
    "                names='Vehicle_Type',\n",
    "                title='total successful launches count'.format(input_year)\n",
    "            )\n",
    "        )\n",
    "\n",
    "                               "
   ]
  },
  {
   "cell_type": "code",
   "execution_count": null,
   "id": "27e49f8e-02f1-4592-a35b-7eb24240d2bc",
   "metadata": {},
   "outputs": [],
   "source": [
    "                  \n",
    "\n",
    " exp_data = yearly_data.groupby('Vehicle_Type')['Advertising_Expenditure'].sum().reset_index()\n",
    "        Y_chart4 = dcc.Graph(\n",
    "            figure=px.pie(\n",
    "                exp_data,\n",
    "                values='Advertising_Expenditure',\n",
    "                names='Vehicle_Type',\n",
    "                title='Total Advertising Expenditure for Vehicle Type in the year {}'.format(input_year)\n",
    "            )\n",
    "        )"
   ]
  },
  {
   "cell_type": "code",
   "execution_count": 6,
   "id": "e3f3bb56-fa79-4f66-8d7a-815b0d2472d9",
   "metadata": {},
   "outputs": [
    {
     "data": {
      "text/html": [
       "\n",
       "        <iframe\n",
       "            width=\"100%\"\n",
       "            height=\"650\"\n",
       "            src=\"http://127.0.0.1:8050/\"\n",
       "            frameborder=\"0\"\n",
       "            allowfullscreen\n",
       "            \n",
       "        ></iframe>\n",
       "        "
      ],
      "text/plain": [
       "<IPython.lib.display.IFrame at 0x1128c08f0>"
      ]
     },
     "metadata": {},
     "output_type": "display_data"
    }
   ],
   "source": [
    "# Run the Dash app\n",
    "if __name__ == '__main__':\n",
    "    #app.run_server(debug=True)\n",
    "    app.run_server(debug=True, dev_tools_ui=False)"
   ]
  },
  {
   "cell_type": "code",
   "execution_count": null,
   "id": "7cf0859a-90df-41c4-b9d5-3ffb8da138c6",
   "metadata": {},
   "outputs": [],
   "source": [
    " # TASK 2: Add a pie chart to show the total successful launches count for all sites\n",
    "                                # If a specific launch site was selected, show the Success vs. Failed counts for the site\n",
    "                                html.Div(dcc.Graph(id='success-pie-chart')),\n",
    "                                html.Br(),\n",
    "\n",
    "                                html.P(\"Payload range (Kg):\"),\n",
    "                                "
   ]
  },
  {
   "cell_type": "code",
   "execution_count": 5,
   "id": "75d4450e-c43f-449b-8ac7-f6c0da624648",
   "metadata": {},
   "outputs": [
    {
     "data": {
      "text/html": [
       "\n",
       "        <iframe\n",
       "            width=\"100%\"\n",
       "            height=\"650\"\n",
       "            src=\"http://127.0.0.1:8050/\"\n",
       "            frameborder=\"0\"\n",
       "            allowfullscreen\n",
       "            \n",
       "        ></iframe>\n",
       "        "
      ],
      "text/plain": [
       "<IPython.lib.display.IFrame at 0x11a922a80>"
      ]
     },
     "metadata": {},
     "output_type": "display_data"
    }
   ],
   "source": [
    "# Import required libraries\n",
    "import pandas as pd\n",
    "import dash\n",
    "import dash_html_components as html\n",
    "import dash_core_components as dcc\n",
    "from dash.dependencies import Input, Output\n",
    "import plotly.express as px\n",
    "\n",
    "# Read the airline data into pandas dataframe\n",
    "spacex_df = pd.read_csv(\"spacex_launch_dash.csv\")\n",
    "max_payload = spacex_df['Payload Mass (kg)'].max()\n",
    "min_payload = spacex_df['Payload Mass (kg)'].min()\n",
    "\n",
    "launch_sites = []\n",
    "launch_sites.append({'label': 'All Sites', 'value': 'All Sites'})\n",
    "all_launch_sites = spacex_df['Launch Site'].unique().tolist()\n",
    "for launch_site in all_launch_sites:\n",
    "    launch_sites.append({'label': launch_site, 'value': launch_site})\n",
    "\n",
    "# Create a dash application\n",
    "app = dash.Dash(__name__)\n",
    "\n",
    "# Create an app layout\n",
    "app.layout = html.Div(children=[html.H1('SpaceX Launch Records Dashboard',\n",
    "                                        style={'textAlign': 'center', 'color': '#503D36',\n",
    "                                               'font-size': 40}),\n",
    "                                # TASK 1: Add a dropdown list to enable Launch Site selection\n",
    "                                # The default select value is for ALL sites\n",
    "                                # dcc.Dropdown(id='site-dropdown',...)\n",
    "                                html.Div([\n",
    "                                    dcc.Dropdown(\n",
    "                                        id = 'site-dropdown',\n",
    "                                        options = launch_sites,\n",
    "                                        placeholder = 'Select a Launch Site here',\n",
    "                                        searchable = True ,\n",
    "                                        clearable = False,\n",
    "                                        value = 'All Sites'\n",
    "                                        ),]),\n",
    "                                html.Br(),\n",
    "\n",
    "                                # TASK 2: Add a pie chart to show the total successful launches count for all sites\n",
    "                                # If a specific launch site was selected, show the Success vs. Failed counts for the site\n",
    "                                html.Div(dcc.Graph(id='success-pie-chart')),\n",
    "                                html.Br(),\n",
    "\n",
    "                                html.P(\"Payload range (Kg):\"),\n",
    "                                # TASK 3: Add a slider to select payload range\n",
    "                                #dcc.RangeSlider(id='payload-slider',...)\n",
    "                                html.Div([\n",
    "                                    dcc.RangeSlider(\n",
    "                                        id = 'payload_slider',\n",
    "                                        min = 0,\n",
    "                                        max = 10000,\n",
    "                                        step = 1000,\n",
    "                                        marks = {\n",
    "                                            0: {'label': '0 Kg', 'style': {'color': '#77b0b1'}},\n",
    "                                            1000: {'label': '1000 Kg'},\n",
    "                                            2000: {'label': '2000 Kg'},\n",
    "                                            3000: {'label': '3000 Kg'},\n",
    "                                            4000: {'label': '4000 Kg'},\n",
    "                                            5000: {'label': '5000 Kg'},\n",
    "                                            6000: {'label': '6000 Kg'},\n",
    "                                            7000: {'label': '7000 Kg'},\n",
    "                                            8000: {'label': '8000 Kg'},\n",
    "                                            9000: {'label': '9000 Kg'},\n",
    "                                            10000: {'label': '10000 Kg', 'style': {'color': '#f50'}},\n",
    "                                            },\n",
    "                                            value = [min_payload,max_payload]),\n",
    "                                            ]),\n",
    "\n",
    "                                # TASK 4: Add a scatter chart to show the correlation between payload and launch success\n",
    "                                html.Div(dcc.Graph(id='success-payload-scatter-chart')),\n",
    "                                ])\n",
    "\n",
    "# TASK 2:\n",
    "# Add a callback function for `site-dropdown` as input, `success-pie-chart` as output\n",
    "@app.callback(\n",
    "     Output(component_id = 'success-pie-chart', component_property = 'figure'),\n",
    "     [Input(component_id = 'site-dropdown', component_property = 'value')]\n",
    ")\n",
    "def update_piegraph(site_dropdown):\n",
    "    if (site_dropdown == 'All Sites' or site_dropdown == 'None'):\n",
    "        data  = spacex_df[spacex_df['class'] == 1] \n",
    "        fig = px.pie(\n",
    "                data,\n",
    "                names = 'Launch Site',\n",
    "                title = 'Total Success Launches by All Sites',\n",
    "            )\n",
    "    else:\n",
    "        data  = spacex_df.loc[spacex_df['Launch Site'] == site_dropdown]\n",
    "        fig = px.pie(\n",
    "                data,\n",
    "                names = 'class',\n",
    "                title = 'Total Success Launches for Site &#8608; '+site_dropdown,\n",
    "            )\n",
    "    return fig\n",
    "\n",
    "# TASK 4:\n",
    "# Add a callback function for `site-dropdown` and `payload-slider` as inputs, `success-payload-scatter-chart` as output\n",
    "@app.callback(\n",
    "     Output(component_id = 'success-payload-scatter-chart', component_property = 'figure'),\n",
    "     [Input(component_id = 'site-dropdown', component_property = 'value'), \n",
    "     Input(component_id = \"payload_slider\", component_property = \"value\")]\n",
    ")\n",
    "def update_scattergraph(site_dropdown,payload_slider):\n",
    "    if (site_dropdown == 'All Sites' or site_dropdown == 'None'):\n",
    "        low, high = payload_slider\n",
    "        data  = spacex_df\n",
    "        inrange = (data['Payload Mass (kg)'] > low) & (data['Payload Mass (kg)'] < high)\n",
    "        fig = px.scatter(\n",
    "                data[inrange], \n",
    "                x = \"Payload Mass (kg)\", \n",
    "                y = \"class\",\n",
    "                title = 'Correlation Between Payload and Success for All Sites',\n",
    "                color=\"Booster Version Category\",\n",
    "                size='Payload Mass (kg)',\n",
    "                hover_data=['Payload Mass (kg)']\n",
    "            )\n",
    "    else:\n",
    "        low, high = payload_slider\n",
    "        data  = spacex_df.loc[spacex_df['Launch Site'] == site_dropdown]\n",
    "        inrange = (data['Payload Mass (kg)'] > low) & (data['Payload Mass (kg)'] < high)\n",
    "        fig = px.scatter(\n",
    "                data[inrange],\n",
    "                x = \"Payload Mass (kg)\",\n",
    "                y = \"class\",\n",
    "                title = 'Correlation Between Payload and Success for Site &#8608; '+site_dropdown,\n",
    "                color=\"Booster Version Category\",\n",
    "                size='Payload Mass (kg)',\n",
    "                hover_data=['Payload Mass (kg)']\n",
    "            )\n",
    "    return fig\n",
    "\n",
    "# Run the app\n",
    "if __name__ == '__main__':\n",
    "    app.run_server()"
   ]
  }
 ],
 "metadata": {
  "kernelspec": {
   "display_name": "Python 3 (ipykernel)",
   "language": "python",
   "name": "python3"
  },
  "language_info": {
   "codemirror_mode": {
    "name": "ipython",
    "version": 3
   },
   "file_extension": ".py",
   "mimetype": "text/x-python",
   "name": "python",
   "nbconvert_exporter": "python",
   "pygments_lexer": "ipython3",
   "version": "3.12.3"
  }
 },
 "nbformat": 4,
 "nbformat_minor": 5
}
